{
 "cells": [
  {
   "cell_type": "code",
   "execution_count": 30,
   "id": "fd82f30e",
   "metadata": {},
   "outputs": [],
   "source": [
    "import numpy as np\n",
    "from numpy.linalg import lstsq\n",
    "from scipy import optimize\n",
    "import statsmodels.api as sm\n",
    "from matplotlib import pyplot as plt"
   ]
  },
  {
   "cell_type": "code",
   "execution_count": 41,
   "id": "0e6658e5",
   "metadata": {},
   "outputs": [],
   "source": [
    "l = []\n",
    "\n",
    "for i in range(1,9):\n",
    "    for j in range(1,10):\n",
    "        docString = \"groupDtube\" + str(i) + \"run\" + str(j) + \".txt\"\n",
    "        dl = np.loadtxt(docString)\n",
    "        l.append(dl)"
   ]
  },
  {
   "cell_type": "code",
   "execution_count": 42,
   "id": "75ec76d3",
   "metadata": {},
   "outputs": [],
   "source": [
    "for i in range(0,72):\n",
    "    ex = l[i]\n",
    "    ex[:,0] = ex[:,0]-ex[0,0]\n",
    "    for j in range(0, len(ex)):\n",
    "        if (ex[j,1] < ex[0,1] -0.075): # this is to cut off any lag in the beginning\n",
    "            ex = ex[j:,:] #keep everything afterward\n",
    "            break\n",
    "    for j in range(int(len(ex)*3/4), len(ex)):\n",
    "        if(ex[j,1] < 0.17): # we chose this number because our data does not seem acurate past this\n",
    "            ex = ex[:j,:]\n",
    "            break\n",
    "    l[i] = ex"
   ]
  },
  {
   "cell_type": "code",
   "execution_count": 36,
   "id": "e9e83024",
   "metadata": {},
   "outputs": [],
   "source": [
    "#https://gist.github.com/ruoyu0088/70effade57483355bbd18b31dc370f2a\n",
    "def segments_fit(X, Y, count):\n",
    "    xmin = X.min()\n",
    "    xmax = X.max()\n",
    "\n",
    "    seg = np.full(count - 1, (xmax - xmin) / count)\n",
    "\n",
    "    px_init = np.r_[np.r_[xmin, seg].cumsum(), xmax]\n",
    "    py_init = np.array([Y[np.abs(X - x) < (xmax - xmin) * 0.01].mean() for x in px_init])\n",
    "\n",
    "    def func(p):\n",
    "        seg = p[:count - 1]\n",
    "        py = p[count - 1:]\n",
    "        px = np.r_[np.r_[xmin, seg].cumsum(), xmax]\n",
    "        return px, py\n",
    "\n",
    "    def err(p):\n",
    "        px, py = func(p)\n",
    "        Y2 = np.interp(X, px, py)\n",
    "        return np.mean((Y - Y2)**2)\n",
    "\n",
    "    r = optimize.minimize(err, x0=np.r_[seg, py_init], method='Nelder-Mead')\n",
    "    return func(r.x)"
   ]
  },
  {
   "cell_type": "code",
   "execution_count": 43,
   "id": "a1392dc0",
   "metadata": {},
   "outputs": [
    {
     "data": {
      "text/plain": [
       "[<matplotlib.lines.Line2D at 0x7f60bad9aeb0>]"
      ]
     },
     "execution_count": 43,
     "metadata": {},
     "output_type": "execute_result"
    },
    {
     "data": {
      "image/png": "[encoded data removed]",
      "text/plain": [
       "<Figure size 432x288 with 1 Axes>"
      ]
     },
     "metadata": {
      "needs_background": "light"
     },
     "output_type": "display_data"
    }
   ],
   "source": [
    "for i in range(0,8):\n",
    "    fig, ax = plt.subplot(3,3)\n",
    "    for j in range(0,3):\n",
    "        for k in range(0,3):\n",
    "            ex = l[k+3*j+9*i]\n",
    "            "
   ]
  },
  {
   "cell_type": "code",
   "execution_count": 19,
   "id": "905d1ed4",
   "metadata": {},
   "outputs": [],
   "source": []
  },
  {
   "cell_type": "code",
   "execution_count": 21,
   "id": "a80ee6e6",
   "metadata": {},
   "outputs": [
    {
     "data": {
      "text/plain": [
       "array([[0.00000e+00, 1.66700e+00],\n",
       "       [1.05000e-01, 1.66500e+00],\n",
       "       [2.09000e-01, 1.69400e+00],\n",
       "       ...,\n",
       "       [1.35010e+02, 1.70000e-01],\n",
       "       [1.35115e+02, 1.71000e-01],\n",
       "       [1.35219e+02, 1.70000e-01]])"
      ]
     },
     "execution_count": 21,
     "metadata": {},
     "output_type": "execute_result"
    }
   ],
   "source": [
    "l[0]"
   ]
  },
  {
   "cell_type": "code",
   "execution_count": null,
   "id": "1dc89e40",
   "metadata": {},
   "outputs": [],
   "source": []
  }
 ],
 "metadata": {
  "kernelspec": {
   "display_name": "Python 3",
   "language": "python",
   "name": "python3"
  },
  "language_info": {
   "codemirror_mode": {
    "name": "ipython",
    "version": 3
   },
   "file_extension": ".py",
   "mimetype": "text/x-python",
   "name": "python",
   "nbconvert_exporter": "python",
   "pygments_lexer": "ipython3",
   "version": "3.8.8"
  }
 },
 "nbformat": 4,
 "nbformat_minor": 5
}
